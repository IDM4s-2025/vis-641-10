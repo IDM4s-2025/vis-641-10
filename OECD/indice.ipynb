{
 "cells": [
  {
   "cell_type": "code",
   "execution_count": null,
   "id": "e77e3bce",
   "metadata": {},
   "outputs": [],
   "source": [
    "import pandas as pd\n",
    "import matplotlib.pyplot as plt"
   ]
  },
  {
   "cell_type": "code",
   "execution_count": null,
   "id": "40353f5d",
   "metadata": {},
   "outputs": [],
   "source": [
    "oecd_hi = pd.read_csv(\"OECD,DF_BLI,+all.csv\")\n",
    "gdp_per_capita = pd.read_csv(\"gdp-per-capita-worldbank.csv\")"
   ]
  }
 ],
 "metadata": {
  "kernelspec": {
   "display_name": "analisiscienciadedatos",
   "language": "python",
   "name": "python3"
  },
  "language_info": {
   "codemirror_mode": {
    "name": "ipython",
    "version": 3
   },
   "file_extension": ".py",
   "mimetype": "text/x-python",
   "name": "python",
   "nbconvert_exporter": "python",
   "pygments_lexer": "ipython3",
   "version": "3.12.9"
  }
 },
 "nbformat": 4,
 "nbformat_minor": 5
}
